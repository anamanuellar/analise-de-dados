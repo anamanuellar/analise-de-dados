{
  "nbformat": 4,
  "nbformat_minor": 0,
  "metadata": {
    "colab": {
      "provenance": [],
      "authorship_tag": "ABX9TyMcBp65kZ0nyrphqJW+u8hU",
      "include_colab_link": true
    },
    "kernelspec": {
      "name": "python3",
      "display_name": "Python 3"
    },
    "language_info": {
      "name": "python"
    }
  },
  "cells": [
    {
      "cell_type": "markdown",
      "metadata": {
        "id": "view-in-github",
        "colab_type": "text"
      },
      "source": [
        "<a href=\"https://colab.research.google.com/github/anamanuellar/analise-de-dados/blob/Frequencia-e-Medidas/Challenge_Enem_2023.ipynb\" target=\"_parent\"><img src=\"https://colab.research.google.com/assets/colab-badge.svg\" alt=\"Open In Colab\"/></a>"
      ]
    },
    {
      "cell_type": "code",
      "source": [
        "import io\n",
        "import pandas as pd\n",
        "from google.colab import files\n",
        "uploaded = files.upload()"
      ],
      "metadata": {
        "colab": {
          "base_uri": "https://localhost:8080/",
          "height": 38
        },
        "id": "NBYsfYKptxZJ",
        "outputId": "62684d63-d7aa-4c80-d670-08f3c60e9e39"
      },
      "execution_count": null,
      "outputs": [
        {
          "output_type": "display_data",
          "data": {
            "text/plain": [
              "<IPython.core.display.HTML object>"
            ],
            "text/html": [
              "\n",
              "     <input type=\"file\" id=\"files-61efb930-d396-4a15-942b-5366d9a91204\" name=\"files[]\" multiple disabled\n",
              "        style=\"border:none\" />\n",
              "     <output id=\"result-61efb930-d396-4a15-942b-5366d9a91204\">\n",
              "      Upload widget is only available when the cell has been executed in the\n",
              "      current browser session. Please rerun this cell to enable.\n",
              "      </output>\n",
              "      <script>// Copyright 2017 Google LLC\n",
              "//\n",
              "// Licensed under the Apache License, Version 2.0 (the \"License\");\n",
              "// you may not use this file except in compliance with the License.\n",
              "// You may obtain a copy of the License at\n",
              "//\n",
              "//      http://www.apache.org/licenses/LICENSE-2.0\n",
              "//\n",
              "// Unless required by applicable law or agreed to in writing, software\n",
              "// distributed under the License is distributed on an \"AS IS\" BASIS,\n",
              "// WITHOUT WARRANTIES OR CONDITIONS OF ANY KIND, either express or implied.\n",
              "// See the License for the specific language governing permissions and\n",
              "// limitations under the License.\n",
              "\n",
              "/**\n",
              " * @fileoverview Helpers for google.colab Python module.\n",
              " */\n",
              "(function(scope) {\n",
              "function span(text, styleAttributes = {}) {\n",
              "  const element = document.createElement('span');\n",
              "  element.textContent = text;\n",
              "  for (const key of Object.keys(styleAttributes)) {\n",
              "    element.style[key] = styleAttributes[key];\n",
              "  }\n",
              "  return element;\n",
              "}\n",
              "\n",
              "// Max number of bytes which will be uploaded at a time.\n",
              "const MAX_PAYLOAD_SIZE = 100 * 1024;\n",
              "\n",
              "function _uploadFiles(inputId, outputId) {\n",
              "  const steps = uploadFilesStep(inputId, outputId);\n",
              "  const outputElement = document.getElementById(outputId);\n",
              "  // Cache steps on the outputElement to make it available for the next call\n",
              "  // to uploadFilesContinue from Python.\n",
              "  outputElement.steps = steps;\n",
              "\n",
              "  return _uploadFilesContinue(outputId);\n",
              "}\n",
              "\n",
              "// This is roughly an async generator (not supported in the browser yet),\n",
              "// where there are multiple asynchronous steps and the Python side is going\n",
              "// to poll for completion of each step.\n",
              "// This uses a Promise to block the python side on completion of each step,\n",
              "// then passes the result of the previous step as the input to the next step.\n",
              "function _uploadFilesContinue(outputId) {\n",
              "  const outputElement = document.getElementById(outputId);\n",
              "  const steps = outputElement.steps;\n",
              "\n",
              "  const next = steps.next(outputElement.lastPromiseValue);\n",
              "  return Promise.resolve(next.value.promise).then((value) => {\n",
              "    // Cache the last promise value to make it available to the next\n",
              "    // step of the generator.\n",
              "    outputElement.lastPromiseValue = value;\n",
              "    return next.value.response;\n",
              "  });\n",
              "}\n",
              "\n",
              "/**\n",
              " * Generator function which is called between each async step of the upload\n",
              " * process.\n",
              " * @param {string} inputId Element ID of the input file picker element.\n",
              " * @param {string} outputId Element ID of the output display.\n",
              " * @return {!Iterable<!Object>} Iterable of next steps.\n",
              " */\n",
              "function* uploadFilesStep(inputId, outputId) {\n",
              "  const inputElement = document.getElementById(inputId);\n",
              "  inputElement.disabled = false;\n",
              "\n",
              "  const outputElement = document.getElementById(outputId);\n",
              "  outputElement.innerHTML = '';\n",
              "\n",
              "  const pickedPromise = new Promise((resolve) => {\n",
              "    inputElement.addEventListener('change', (e) => {\n",
              "      resolve(e.target.files);\n",
              "    });\n",
              "  });\n",
              "\n",
              "  const cancel = document.createElement('button');\n",
              "  inputElement.parentElement.appendChild(cancel);\n",
              "  cancel.textContent = 'Cancel upload';\n",
              "  const cancelPromise = new Promise((resolve) => {\n",
              "    cancel.onclick = () => {\n",
              "      resolve(null);\n",
              "    };\n",
              "  });\n",
              "\n",
              "  // Wait for the user to pick the files.\n",
              "  const files = yield {\n",
              "    promise: Promise.race([pickedPromise, cancelPromise]),\n",
              "    response: {\n",
              "      action: 'starting',\n",
              "    }\n",
              "  };\n",
              "\n",
              "  cancel.remove();\n",
              "\n",
              "  // Disable the input element since further picks are not allowed.\n",
              "  inputElement.disabled = true;\n",
              "\n",
              "  if (!files) {\n",
              "    return {\n",
              "      response: {\n",
              "        action: 'complete',\n",
              "      }\n",
              "    };\n",
              "  }\n",
              "\n",
              "  for (const file of files) {\n",
              "    const li = document.createElement('li');\n",
              "    li.append(span(file.name, {fontWeight: 'bold'}));\n",
              "    li.append(span(\n",
              "        `(${file.type || 'n/a'}) - ${file.size} bytes, ` +\n",
              "        `last modified: ${\n",
              "            file.lastModifiedDate ? file.lastModifiedDate.toLocaleDateString() :\n",
              "                                    'n/a'} - `));\n",
              "    const percent = span('0% done');\n",
              "    li.appendChild(percent);\n",
              "\n",
              "    outputElement.appendChild(li);\n",
              "\n",
              "    const fileDataPromise = new Promise((resolve) => {\n",
              "      const reader = new FileReader();\n",
              "      reader.onload = (e) => {\n",
              "        resolve(e.target.result);\n",
              "      };\n",
              "      reader.readAsArrayBuffer(file);\n",
              "    });\n",
              "    // Wait for the data to be ready.\n",
              "    let fileData = yield {\n",
              "      promise: fileDataPromise,\n",
              "      response: {\n",
              "        action: 'continue',\n",
              "      }\n",
              "    };\n",
              "\n",
              "    // Use a chunked sending to avoid message size limits. See b/62115660.\n",
              "    let position = 0;\n",
              "    do {\n",
              "      const length = Math.min(fileData.byteLength - position, MAX_PAYLOAD_SIZE);\n",
              "      const chunk = new Uint8Array(fileData, position, length);\n",
              "      position += length;\n",
              "\n",
              "      const base64 = btoa(String.fromCharCode.apply(null, chunk));\n",
              "      yield {\n",
              "        response: {\n",
              "          action: 'append',\n",
              "          file: file.name,\n",
              "          data: base64,\n",
              "        },\n",
              "      };\n",
              "\n",
              "      let percentDone = fileData.byteLength === 0 ?\n",
              "          100 :\n",
              "          Math.round((position / fileData.byteLength) * 100);\n",
              "      percent.textContent = `${percentDone}% done`;\n",
              "\n",
              "    } while (position < fileData.byteLength);\n",
              "  }\n",
              "\n",
              "  // All done.\n",
              "  yield {\n",
              "    response: {\n",
              "      action: 'complete',\n",
              "    }\n",
              "  };\n",
              "}\n",
              "\n",
              "scope.google = scope.google || {};\n",
              "scope.google.colab = scope.google.colab || {};\n",
              "scope.google.colab._files = {\n",
              "  _uploadFiles,\n",
              "  _uploadFilesContinue,\n",
              "};\n",
              "})(self);\n",
              "</script> "
            ]
          },
          "metadata": {}
        }
      ]
    },
    {
      "cell_type": "code",
      "source": [
        "import matplotlib.pyplot as plt"
      ],
      "metadata": {
        "id": "Rxq5dXkT5DqC"
      },
      "execution_count": null,
      "outputs": []
    },
    {
      "cell_type": "code",
      "source": [
        "import seaborn as sns"
      ],
      "metadata": {
        "id": "6HLqcJ1W--tn"
      },
      "execution_count": null,
      "outputs": []
    },
    {
      "cell_type": "code",
      "source": [
        "import numpy as np"
      ],
      "metadata": {
        "id": "Pbrr_XS8Ea2A"
      },
      "execution_count": null,
      "outputs": []
    },
    {
      "cell_type": "code",
      "source": [
        "df = pd.read_json('/content/enem_2023.json')"
      ],
      "metadata": {
        "id": "q8Dubqqqt6Mv"
      },
      "execution_count": null,
      "outputs": []
    },
    {
      "cell_type": "code",
      "source": [
        "df.head()"
      ],
      "metadata": {
        "colab": {
          "base_uri": "https://localhost:8080/",
          "height": 206
        },
        "id": "aa6b6lDEuFSy",
        "outputId": "f0e1da94-b421-4580-e5f7-35ace6ea75ba"
      },
      "execution_count": null,
      "outputs": [
        {
          "output_type": "execute_result",
          "data": {
            "text/plain": [
              "   Linguagens  Ciências humanas  Ciências da natureza  Matemática     Redação  \\\n",
              "0  585.669300        686.512178            390.482473  452.281333  546.371706   \n",
              "1  359.384608        642.084134                   NaN  412.205207  741.825256   \n",
              "2  622.732384        495.510719            443.183580  669.683401  684.515750   \n",
              "3  350.164605        602.041588            413.979810  676.608952  671.237114   \n",
              "4  384.093657        489.249140            609.758123  520.426698  744.375048   \n",
              "\n",
              "     Sexo  \n",
              "0   Homem  \n",
              "1  Mulher  \n",
              "2   Homem  \n",
              "3   Homem  \n",
              "4   Homem  "
            ],
            "text/html": [
              "\n",
              "  <div id=\"df-bb77421d-acef-45fb-a854-d05d0cf3ddc7\" class=\"colab-df-container\">\n",
              "    <div>\n",
              "<style scoped>\n",
              "    .dataframe tbody tr th:only-of-type {\n",
              "        vertical-align: middle;\n",
              "    }\n",
              "\n",
              "    .dataframe tbody tr th {\n",
              "        vertical-align: top;\n",
              "    }\n",
              "\n",
              "    .dataframe thead th {\n",
              "        text-align: right;\n",
              "    }\n",
              "</style>\n",
              "<table border=\"1\" class=\"dataframe\">\n",
              "  <thead>\n",
              "    <tr style=\"text-align: right;\">\n",
              "      <th></th>\n",
              "      <th>Linguagens</th>\n",
              "      <th>Ciências humanas</th>\n",
              "      <th>Ciências da natureza</th>\n",
              "      <th>Matemática</th>\n",
              "      <th>Redação</th>\n",
              "      <th>Sexo</th>\n",
              "    </tr>\n",
              "  </thead>\n",
              "  <tbody>\n",
              "    <tr>\n",
              "      <th>0</th>\n",
              "      <td>585.669300</td>\n",
              "      <td>686.512178</td>\n",
              "      <td>390.482473</td>\n",
              "      <td>452.281333</td>\n",
              "      <td>546.371706</td>\n",
              "      <td>Homem</td>\n",
              "    </tr>\n",
              "    <tr>\n",
              "      <th>1</th>\n",
              "      <td>359.384608</td>\n",
              "      <td>642.084134</td>\n",
              "      <td>NaN</td>\n",
              "      <td>412.205207</td>\n",
              "      <td>741.825256</td>\n",
              "      <td>Mulher</td>\n",
              "    </tr>\n",
              "    <tr>\n",
              "      <th>2</th>\n",
              "      <td>622.732384</td>\n",
              "      <td>495.510719</td>\n",
              "      <td>443.183580</td>\n",
              "      <td>669.683401</td>\n",
              "      <td>684.515750</td>\n",
              "      <td>Homem</td>\n",
              "    </tr>\n",
              "    <tr>\n",
              "      <th>3</th>\n",
              "      <td>350.164605</td>\n",
              "      <td>602.041588</td>\n",
              "      <td>413.979810</td>\n",
              "      <td>676.608952</td>\n",
              "      <td>671.237114</td>\n",
              "      <td>Homem</td>\n",
              "    </tr>\n",
              "    <tr>\n",
              "      <th>4</th>\n",
              "      <td>384.093657</td>\n",
              "      <td>489.249140</td>\n",
              "      <td>609.758123</td>\n",
              "      <td>520.426698</td>\n",
              "      <td>744.375048</td>\n",
              "      <td>Homem</td>\n",
              "    </tr>\n",
              "  </tbody>\n",
              "</table>\n",
              "</div>\n",
              "    <div class=\"colab-df-buttons\">\n",
              "\n",
              "  <div class=\"colab-df-container\">\n",
              "    <button class=\"colab-df-convert\" onclick=\"convertToInteractive('df-bb77421d-acef-45fb-a854-d05d0cf3ddc7')\"\n",
              "            title=\"Convert this dataframe to an interactive table.\"\n",
              "            style=\"display:none;\">\n",
              "\n",
              "  <svg xmlns=\"http://www.w3.org/2000/svg\" height=\"24px\" viewBox=\"0 -960 960 960\">\n",
              "    <path d=\"M120-120v-720h720v720H120Zm60-500h600v-160H180v160Zm220 220h160v-160H400v160Zm0 220h160v-160H400v160ZM180-400h160v-160H180v160Zm440 0h160v-160H620v160ZM180-180h160v-160H180v160Zm440 0h160v-160H620v160Z\"/>\n",
              "  </svg>\n",
              "    </button>\n",
              "\n",
              "  <style>\n",
              "    .colab-df-container {\n",
              "      display:flex;\n",
              "      gap: 12px;\n",
              "    }\n",
              "\n",
              "    .colab-df-convert {\n",
              "      background-color: #E8F0FE;\n",
              "      border: none;\n",
              "      border-radius: 50%;\n",
              "      cursor: pointer;\n",
              "      display: none;\n",
              "      fill: #1967D2;\n",
              "      height: 32px;\n",
              "      padding: 0 0 0 0;\n",
              "      width: 32px;\n",
              "    }\n",
              "\n",
              "    .colab-df-convert:hover {\n",
              "      background-color: #E2EBFA;\n",
              "      box-shadow: 0px 1px 2px rgba(60, 64, 67, 0.3), 0px 1px 3px 1px rgba(60, 64, 67, 0.15);\n",
              "      fill: #174EA6;\n",
              "    }\n",
              "\n",
              "    .colab-df-buttons div {\n",
              "      margin-bottom: 4px;\n",
              "    }\n",
              "\n",
              "    [theme=dark] .colab-df-convert {\n",
              "      background-color: #3B4455;\n",
              "      fill: #D2E3FC;\n",
              "    }\n",
              "\n",
              "    [theme=dark] .colab-df-convert:hover {\n",
              "      background-color: #434B5C;\n",
              "      box-shadow: 0px 1px 3px 1px rgba(0, 0, 0, 0.15);\n",
              "      filter: drop-shadow(0px 1px 2px rgba(0, 0, 0, 0.3));\n",
              "      fill: #FFFFFF;\n",
              "    }\n",
              "  </style>\n",
              "\n",
              "    <script>\n",
              "      const buttonEl =\n",
              "        document.querySelector('#df-bb77421d-acef-45fb-a854-d05d0cf3ddc7 button.colab-df-convert');\n",
              "      buttonEl.style.display =\n",
              "        google.colab.kernel.accessAllowed ? 'block' : 'none';\n",
              "\n",
              "      async function convertToInteractive(key) {\n",
              "        const element = document.querySelector('#df-bb77421d-acef-45fb-a854-d05d0cf3ddc7');\n",
              "        const dataTable =\n",
              "          await google.colab.kernel.invokeFunction('convertToInteractive',\n",
              "                                                    [key], {});\n",
              "        if (!dataTable) return;\n",
              "\n",
              "        const docLinkHtml = 'Like what you see? Visit the ' +\n",
              "          '<a target=\"_blank\" href=https://colab.research.google.com/notebooks/data_table.ipynb>data table notebook</a>'\n",
              "          + ' to learn more about interactive tables.';\n",
              "        element.innerHTML = '';\n",
              "        dataTable['output_type'] = 'display_data';\n",
              "        await google.colab.output.renderOutput(dataTable, element);\n",
              "        const docLink = document.createElement('div');\n",
              "        docLink.innerHTML = docLinkHtml;\n",
              "        element.appendChild(docLink);\n",
              "      }\n",
              "    </script>\n",
              "  </div>\n",
              "\n",
              "\n",
              "<div id=\"df-7db365b3-9ca8-4e4e-9683-f2abf941d8b3\">\n",
              "  <button class=\"colab-df-quickchart\" onclick=\"quickchart('df-7db365b3-9ca8-4e4e-9683-f2abf941d8b3')\"\n",
              "            title=\"Suggest charts\"\n",
              "            style=\"display:none;\">\n",
              "\n",
              "<svg xmlns=\"http://www.w3.org/2000/svg\" height=\"24px\"viewBox=\"0 0 24 24\"\n",
              "     width=\"24px\">\n",
              "    <g>\n",
              "        <path d=\"M19 3H5c-1.1 0-2 .9-2 2v14c0 1.1.9 2 2 2h14c1.1 0 2-.9 2-2V5c0-1.1-.9-2-2-2zM9 17H7v-7h2v7zm4 0h-2V7h2v10zm4 0h-2v-4h2v4z\"/>\n",
              "    </g>\n",
              "</svg>\n",
              "  </button>\n",
              "\n",
              "<style>\n",
              "  .colab-df-quickchart {\n",
              "      --bg-color: #E8F0FE;\n",
              "      --fill-color: #1967D2;\n",
              "      --hover-bg-color: #E2EBFA;\n",
              "      --hover-fill-color: #174EA6;\n",
              "      --disabled-fill-color: #AAA;\n",
              "      --disabled-bg-color: #DDD;\n",
              "  }\n",
              "\n",
              "  [theme=dark] .colab-df-quickchart {\n",
              "      --bg-color: #3B4455;\n",
              "      --fill-color: #D2E3FC;\n",
              "      --hover-bg-color: #434B5C;\n",
              "      --hover-fill-color: #FFFFFF;\n",
              "      --disabled-bg-color: #3B4455;\n",
              "      --disabled-fill-color: #666;\n",
              "  }\n",
              "\n",
              "  .colab-df-quickchart {\n",
              "    background-color: var(--bg-color);\n",
              "    border: none;\n",
              "    border-radius: 50%;\n",
              "    cursor: pointer;\n",
              "    display: none;\n",
              "    fill: var(--fill-color);\n",
              "    height: 32px;\n",
              "    padding: 0;\n",
              "    width: 32px;\n",
              "  }\n",
              "\n",
              "  .colab-df-quickchart:hover {\n",
              "    background-color: var(--hover-bg-color);\n",
              "    box-shadow: 0 1px 2px rgba(60, 64, 67, 0.3), 0 1px 3px 1px rgba(60, 64, 67, 0.15);\n",
              "    fill: var(--button-hover-fill-color);\n",
              "  }\n",
              "\n",
              "  .colab-df-quickchart-complete:disabled,\n",
              "  .colab-df-quickchart-complete:disabled:hover {\n",
              "    background-color: var(--disabled-bg-color);\n",
              "    fill: var(--disabled-fill-color);\n",
              "    box-shadow: none;\n",
              "  }\n",
              "\n",
              "  .colab-df-spinner {\n",
              "    border: 2px solid var(--fill-color);\n",
              "    border-color: transparent;\n",
              "    border-bottom-color: var(--fill-color);\n",
              "    animation:\n",
              "      spin 1s steps(1) infinite;\n",
              "  }\n",
              "\n",
              "  @keyframes spin {\n",
              "    0% {\n",
              "      border-color: transparent;\n",
              "      border-bottom-color: var(--fill-color);\n",
              "      border-left-color: var(--fill-color);\n",
              "    }\n",
              "    20% {\n",
              "      border-color: transparent;\n",
              "      border-left-color: var(--fill-color);\n",
              "      border-top-color: var(--fill-color);\n",
              "    }\n",
              "    30% {\n",
              "      border-color: transparent;\n",
              "      border-left-color: var(--fill-color);\n",
              "      border-top-color: var(--fill-color);\n",
              "      border-right-color: var(--fill-color);\n",
              "    }\n",
              "    40% {\n",
              "      border-color: transparent;\n",
              "      border-right-color: var(--fill-color);\n",
              "      border-top-color: var(--fill-color);\n",
              "    }\n",
              "    60% {\n",
              "      border-color: transparent;\n",
              "      border-right-color: var(--fill-color);\n",
              "    }\n",
              "    80% {\n",
              "      border-color: transparent;\n",
              "      border-right-color: var(--fill-color);\n",
              "      border-bottom-color: var(--fill-color);\n",
              "    }\n",
              "    90% {\n",
              "      border-color: transparent;\n",
              "      border-bottom-color: var(--fill-color);\n",
              "    }\n",
              "  }\n",
              "</style>\n",
              "\n",
              "  <script>\n",
              "    async function quickchart(key) {\n",
              "      const quickchartButtonEl =\n",
              "        document.querySelector('#' + key + ' button');\n",
              "      quickchartButtonEl.disabled = true;  // To prevent multiple clicks.\n",
              "      quickchartButtonEl.classList.add('colab-df-spinner');\n",
              "      try {\n",
              "        const charts = await google.colab.kernel.invokeFunction(\n",
              "            'suggestCharts', [key], {});\n",
              "      } catch (error) {\n",
              "        console.error('Error during call to suggestCharts:', error);\n",
              "      }\n",
              "      quickchartButtonEl.classList.remove('colab-df-spinner');\n",
              "      quickchartButtonEl.classList.add('colab-df-quickchart-complete');\n",
              "    }\n",
              "    (() => {\n",
              "      let quickchartButtonEl =\n",
              "        document.querySelector('#df-7db365b3-9ca8-4e4e-9683-f2abf941d8b3 button');\n",
              "      quickchartButtonEl.style.display =\n",
              "        google.colab.kernel.accessAllowed ? 'block' : 'none';\n",
              "    })();\n",
              "  </script>\n",
              "</div>\n",
              "\n",
              "    </div>\n",
              "  </div>\n"
            ],
            "application/vnd.google.colaboratory.intrinsic+json": {
              "type": "dataframe",
              "variable_name": "df",
              "summary": "{\n  \"name\": \"df\",\n  \"rows\": 1000,\n  \"fields\": [\n    {\n      \"column\": \"Linguagens\",\n      \"properties\": {\n        \"dtype\": \"number\",\n        \"std\": 84.00931315971195,\n        \"min\": 287.0,\n        \"max\": 804.4563171927,\n        \"num_unique_values\": 896,\n        \"samples\": [\n          638.5729576994,\n          458.5772735297,\n          469.6368972844\n        ],\n        \"semantic_type\": \"\",\n        \"description\": \"\"\n      }\n    },\n    {\n      \"column\": \"Ci\\u00eancias humanas\",\n      \"properties\": {\n        \"dtype\": \"number\",\n        \"std\": 77.81151916399475,\n        \"min\": 289.9,\n        \"max\": 763.9196954613,\n        \"num_unique_values\": 935,\n        \"samples\": [\n          552.953806862,\n          648.4281845758,\n          519.0714634707\n        ],\n        \"semantic_type\": \"\",\n        \"description\": \"\"\n      }\n    },\n    {\n      \"column\": \"Ci\\u00eancias da natureza\",\n      \"properties\": {\n        \"dtype\": \"number\",\n        \"std\": 78.76040369093829,\n        \"min\": 314.4,\n        \"max\": 802.0045683513,\n        \"num_unique_values\": 821,\n        \"samples\": [\n          472.110329659,\n          468.0927320977,\n          391.1238460543\n        ],\n        \"semantic_type\": \"\",\n        \"description\": \"\"\n      }\n    },\n    {\n      \"column\": \"Matem\\u00e1tica\",\n      \"properties\": {\n        \"dtype\": \"number\",\n        \"std\": 86.64810003261275,\n        \"min\": 319.8,\n        \"max\": 807.8779018921,\n        \"num_unique_values\": 918,\n        \"samples\": [\n          577.6921115123,\n          562.8560894807,\n          464.1971411718\n        ],\n        \"semantic_type\": \"\",\n        \"description\": \"\"\n      }\n    },\n    {\n      \"column\": \"Reda\\u00e7\\u00e3o\",\n      \"properties\": {\n        \"dtype\": \"number\",\n        \"std\": 115.33997244479161,\n        \"min\": 270.8399648605,\n        \"max\": 1000.0,\n        \"num_unique_values\": 860,\n        \"samples\": [\n          482.1791420587,\n          687.1614107203,\n          572.6498716449\n        ],\n        \"semantic_type\": \"\",\n        \"description\": \"\"\n      }\n    },\n    {\n      \"column\": \"Sexo\",\n      \"properties\": {\n        \"dtype\": \"category\",\n        \"num_unique_values\": 3,\n        \"samples\": [\n          \"Homem\",\n          \"Mulher\",\n          \"N\\u00e3o idenficado\"\n        ],\n        \"semantic_type\": \"\",\n        \"description\": \"\"\n      }\n    }\n  ]\n}"
            }
          },
          "metadata": {},
          "execution_count": 13
        }
      ]
    },
    {
      "cell_type": "markdown",
      "source": [
        "**1. Qual das disciplinas tem a maior amplitude de nota?**"
      ],
      "metadata": {
        "id": "cdtq0zCG0_-7"
      }
    },
    {
      "cell_type": "code",
      "source": [
        "amplitude_disciplina1 = df['Linguagens'].max() - df['Linguagens'].min()\n",
        "amplitude_disciplina2 = df['Ciências humanas'].max() - df['Ciências humanas'].min()\n",
        "amplitude_disciplina3 = df['Ciências da natureza'].max() - df['Ciências da natureza'].min()\n",
        "amplitude_disciplina4 = df['Matemática'].max() - df['Matemática'].min()\n",
        "amplitude_disciplina5 = df['Redação'].max() - df['Redação'].min()\n",
        "\n"
      ],
      "metadata": {
        "id": "kYjcmmgrwFqh"
      },
      "execution_count": null,
      "outputs": []
    },
    {
      "cell_type": "code",
      "source": [
        "# Criando dicionário para facilitar a identificação da disciplina com maior amplitude\n",
        "amplitudes = {\n",
        "    'Linguagens': amplitude_disciplina1,\n",
        "    'Ciências humanas': amplitude_disciplina2,\n",
        "    'Ciências da natureza': amplitude_disciplina3,\n",
        "    'Matemática': amplitude_disciplina4,\n",
        "    'Redação': amplitude_disciplina5\n",
        "}\n"
      ],
      "metadata": {
        "id": "t_buuE2m0DUQ"
      },
      "execution_count": null,
      "outputs": []
    },
    {
      "cell_type": "code",
      "source": [
        "disciplina_maior_amplitude = max(amplitudes, key=amplitudes.get)\n",
        "print(f\"A amplitude para Disciplina Linguagens é: {amplitude_disciplina1}\")\n",
        "print(f\"A amplitude para Disciplina Ciências humanas é: {amplitude_disciplina2}\")\n",
        "print(f\"A amplitude para Disciplina Ciências da natureza é: {amplitude_disciplina3}\")\n",
        "print(f\"A amplitude para Disciplina Matemática é: {amplitude_disciplina4}\")\n",
        "print(f\"A amplitude para Disciplina Redação é: {amplitude_disciplina5}\")\n",
        "print(f\"A disciplina com maior amplitude é: {disciplina_maior_amplitude}\")"
      ],
      "metadata": {
        "id": "ldCdqq-s0JDD"
      },
      "execution_count": null,
      "outputs": []
    },
    {
      "cell_type": "markdown",
      "source": [
        "**2. Qual é a média e a mediana para cada uma das disciplinas? (Lembre-se\n",
        "de remover todos os valores nulos quando considerar a mediana)**"
      ],
      "metadata": {
        "id": "-BEidw211JL9"
      }
    },
    {
      "cell_type": "code",
      "source": [
        "df_sem_nulos = df.dropna()"
      ],
      "metadata": {
        "id": "twCd-wM81Euz"
      },
      "execution_count": null,
      "outputs": []
    },
    {
      "cell_type": "code",
      "source": [
        "# Média para cada disciplina\n",
        "media_disciplina1 = df_sem_nulos['Linguagens'].mean()\n",
        "media_disciplina2 = df_sem_nulos['Ciências humanas'].mean()\n",
        "media_disciplina3 = df_sem_nulos['Ciências da natureza'].mean()\n",
        "media_disciplina4 = df_sem_nulos['Matemática'].mean()\n",
        "media_disciplina5 = df_sem_nulos['Redação'].mean()\n",
        "\n",
        "print(f\"A média para Disciplina Linguagens é: {media_disciplina1}\")\n",
        "print(f\"A média para Disciplina Ciências humanas é: {media_disciplina2}\")\n",
        "print(f\"A média para Disciplina Ciências da natureza é: {media_disciplina3}\")\n",
        "print(f\"A média para Disciplina Matemática é: {media_disciplina4}\")\n",
        "print(f\"A média para Disciplina Redação é: {media_disciplina5}\")"
      ],
      "metadata": {
        "colab": {
          "base_uri": "https://localhost:8080/"
        },
        "id": "KfGSTQtl1qRf",
        "outputId": "338d9a86-01a2-4744-bfcd-69e218e61f3a"
      },
      "execution_count": null,
      "outputs": [
        {
          "output_type": "stream",
          "name": "stdout",
          "text": [
            "A média para Disciplina Linguagens é: 517.4671621383926\n",
            "A média para Disciplina Ciências humanas é: 528.3514542155493\n",
            "A média para Disciplina Ciências da natureza é: 502.1421008280391\n",
            "A média para Disciplina Matemática é: 537.1724797842875\n",
            "A média para Disciplina Redação é: 641.1931234629293\n"
          ]
        }
      ]
    },
    {
      "cell_type": "code",
      "source": [
        "# Mediana para cada disciplina\n",
        "mediana_disciplina1 = df_sem_nulos['Linguagens'].median()\n",
        "mediana_disciplina2 = df_sem_nulos['Ciências humanas'].median()\n",
        "mediana_disciplina3 = df_sem_nulos['Ciências da natureza'].median()\n",
        "mediana_disciplina4 = df_sem_nulos['Matemática'].median()\n",
        "mediana_disciplina5 = df_sem_nulos['Redação'].median()\n",
        "\n",
        "print(f\"A mediana para Disciplina Linguagens é: {mediana_disciplina1}\")\n",
        "print(f\"A mediana para Disciplina Ciências humanas é: {mediana_disciplina2}\")\n",
        "print(f\"A mediana para Disciplina Ciências da natureza é: {mediana_disciplina3}\")\n",
        "print(f\"A mediana para Disciplina Matemática é: {mediana_disciplina4}\")\n",
        "print(f\"A mediana para Disciplina Redação é: {mediana_disciplina5}\")"
      ],
      "metadata": {
        "colab": {
          "base_uri": "https://localhost:8080/"
        },
        "id": "Q0o_uBuK2B3s",
        "outputId": "1743494e-e7d3-42d5-fe61-e67e21964d23"
      },
      "execution_count": null,
      "outputs": [
        {
          "output_type": "stream",
          "name": "stdout",
          "text": [
            "A mediana para Disciplina Linguagens é: 517.1288314442\n",
            "A mediana para Disciplina Ciências humanas é: 528.50326342525\n",
            "A mediana para Disciplina Ciências da natureza é: 502.93520944194995\n",
            "A mediana para Disciplina Matemática é: 532.9614855364\n",
            "A mediana para Disciplina Redação é: 639.60269114995\n"
          ]
        }
      ]
    },
    {
      "cell_type": "markdown",
      "source": [
        "**3. Considerando o curso de Ciência da Computação da UFPE, onde o peso\n",
        "cada uma das disciplinas ponderado:**\n",
        "\n",
        "a. Redação - 2\n",
        "\n",
        "b. Matemática e suas Tecnologias - 4\n",
        "\n",
        "c. Linguagens, Códigos e suas Tecnologias - 2\n",
        "\n",
        "d. Ciências Humanas e suas Tecnologias - 1\n",
        "\n",
        "e. Ciências da Natureza e suas Tecnologias - 1\n",
        "\n",
        "**Qual o desvio padrão e média das notas dos 500 estudantes mais bem\n",
        "colocados considerando esses pesos?**\n"
      ],
      "metadata": {
        "id": "yaLkfpdh2mH-"
      }
    },
    {
      "cell_type": "code",
      "source": [
        "# Colunas ponderadas\n",
        "df['Redacao_ponderada'] = df['Redação'] * 2\n",
        "df['Matematica_ponderada'] = df['Matemática'] * 4\n",
        "df['Linguagens_ponderada'] = df['Linguagens'] * 2\n",
        "df['Ciencias_humanas_ponderada'] = df['Ciências humanas'] * 1\n",
        "df['Ciencias_natureza_ponderada'] = df['Ciências da natureza'] * 1"
      ],
      "metadata": {
        "id": "aZ6Gi-8H2NGk"
      },
      "execution_count": null,
      "outputs": []
    },
    {
      "cell_type": "code",
      "source": [
        "# Soma ponderada para cada estudante\n",
        "df['Soma_ponderada'] = df['Redacao_ponderada'] + df['Matematica_ponderada'] + df['Linguagens_ponderada'] + df['Ciencias_humanas_ponderada'] + df['Ciencias_natureza_ponderada']"
      ],
      "metadata": {
        "id": "WxXB-Nk72qNh"
      },
      "execution_count": null,
      "outputs": []
    },
    {
      "cell_type": "code",
      "source": [
        "# Ordenando o DataFrame pelos 500 estudantes mais bem colocados\n",
        "df_top_500 = df.sort_values(by='Soma_ponderada', ascending=False).head(500)"
      ],
      "metadata": {
        "id": "_Itqfxs73sEH"
      },
      "execution_count": null,
      "outputs": []
    },
    {
      "cell_type": "code",
      "source": [
        "# Calculando a média e o desvio padrão das notas ponderadas\n",
        "media_ponderada = df_top_500['Soma_ponderada'].mean()\n",
        "desvio_padrao_ponderado = df_top_500['Soma_ponderada'].std()\n",
        "\n",
        "print(f\"A média das notas ponderadas dos 500 estudantes mais bem colocados é: {media_ponderada}\")\n",
        "print(f\"O desvio padrão das notas ponderadas dos 500 estudantes mais bem colocados é: {desvio_padrao_ponderado}\")"
      ],
      "metadata": {
        "colab": {
          "base_uri": "https://localhost:8080/"
        },
        "id": "_O1IZuoM3xrP",
        "outputId": "906a277a-1884-4595-bbc0-d6169daa7c5e"
      },
      "execution_count": null,
      "outputs": [
        {
          "output_type": "stream",
          "name": "stdout",
          "text": [
            "A média das notas ponderadas dos 500 estudantes mais bem colocados é: 5572.896772018768\n",
            "O desvio padrão das notas ponderadas dos 500 estudantes mais bem colocados é: 404.3586629946426\n"
          ]
        }
      ]
    },
    {
      "cell_type": "markdown",
      "source": [
        "**4. Se todos esses estudantes aplicassem para ciência da computação e\n",
        "existem apenas 40 vagas, qual seria a variância e média da nota dos\n",
        "estudantes que entraram no curso de ciência da computação?**"
      ],
      "metadata": {
        "id": "1JQV0MPp3_x0"
      }
    },
    {
      "cell_type": "code",
      "source": [
        "# Primeiros 40 estudantes\n",
        "df_admitidos = df_top_500.head(40)\n",
        "\n",
        "# Média e variância das notas ponderadas dos estudantes admitidos\n",
        "media_admitidos = df_admitidos['Soma_ponderada'].mean()\n",
        "variancia_admitidos = df_admitidos['Soma_ponderada'].var()\n",
        "\n",
        "print(f\"A média das notas ponderadas dos estudantes admitidos é: {media_admitidos}\")\n",
        "print(f\"A variância das notas ponderadas dos estudantes admitidos é: {variancia_admitidos}\")"
      ],
      "metadata": {
        "colab": {
          "base_uri": "https://localhost:8080/"
        },
        "id": "HGHpYWkn39Lk",
        "outputId": "03d2f5ca-a9ef-49c1-821b-376060074a02"
      },
      "execution_count": null,
      "outputs": [
        {
          "output_type": "stream",
          "name": "stdout",
          "text": [
            "A média das notas ponderadas dos estudantes admitidos é: 6366.827415075188\n",
            "A variância das notas ponderadas dos estudantes admitidos é: 29576.75036004102\n"
          ]
        }
      ]
    },
    {
      "cell_type": "markdown",
      "source": [
        "**5. Qual o valor do teto do terceiro quartil para as disciplinas de\n",
        "matemática e linguagens?**"
      ],
      "metadata": {
        "id": "3tCF0Rv84hfo"
      }
    },
    {
      "cell_type": "code",
      "source": [
        "# Terceiro quartil para Matemática\n",
        "q3_matematica = df['Matemática'].quantile(0.75)\n",
        "\n",
        "# Terceiro quartil para Linguagens\n",
        "q3_linguagens = df['Linguagens'].quantile(0.75)\n",
        "\n",
        "print(f\"O terceiro quartil para Matemática é: {q3_matematica}\")\n",
        "print(f\"O terceiro quartil para Linguagens é: {q3_linguagens}\")"
      ],
      "metadata": {
        "colab": {
          "base_uri": "https://localhost:8080/"
        },
        "id": "rXNJoNLk4l-p",
        "outputId": "1eebf287-83e9-40b3-b594-726dda5ca75e"
      },
      "execution_count": null,
      "outputs": [
        {
          "output_type": "stream",
          "name": "stdout",
          "text": [
            "O terceiro quartil para Matemática é: 592.9129628887\n",
            "O terceiro quartil para Linguagens é: 571.6358759278\n"
          ]
        }
      ]
    },
    {
      "cell_type": "markdown",
      "source": [
        "**6. Faça o histograma de Redação e Linguagens, de 20 em 20 pontos.\n",
        "Podemos dizer que são histogramas simétricos, justifique e classifique\n",
        "se não assimétricas?**"
      ],
      "metadata": {
        "id": "IktyT-GN5GD9"
      }
    },
    {
      "cell_type": "code",
      "source": [
        "# Definindo intervalos para Redação\n",
        "redacao_intervals = range(int(df['Redação'].min()), int(df['Redação'].max()) + 21, 20)"
      ],
      "metadata": {
        "id": "CRdd8Ijc40vx"
      },
      "execution_count": null,
      "outputs": []
    },
    {
      "cell_type": "code",
      "source": [
        "plt.figure(figsize=(10, 6))\n",
        "plt.hist(df['Redação'], bins=redacao_intervals, edgecolor='black', alpha=0.7)\n",
        "plt.title('Histograma de Redação')\n",
        "plt.xlabel('Nota')\n",
        "plt.ylabel('Frequência')\n",
        "plt.grid(True)\n",
        "plt.show()"
      ],
      "metadata": {
        "colab": {
          "base_uri": "https://localhost:8080/",
          "height": 564
        },
        "id": "NqAc3OOu5Ywv",
        "outputId": "50826152-2f2a-4a8e-cc6e-908e3e3ec06a"
      },
      "execution_count": null,
      "outputs": [
        {
          "output_type": "display_data",
          "data": {
            "text/plain": [
              "<Figure size 1000x600 with 1 Axes>"
            ],
            "image/png": "[encoded data removed]"
          },
          "metadata": {}
        }
      ]
    },
    {
      "cell_type": "markdown",
      "source": [
        "O histograma de redação não é simétrico. Ele apresenta uma assimetria positiva, a cauda está inclinado para a direita. A distribuição dos dados tem um pico em torno da faixa de notas entre 600 e 700, depois a frequência de notas mais altas diminui. Portanto, não é simétrico, mas tende a ter mais notas na parte inferior da escala."
      ],
      "metadata": {
        "id": "rewLlovR61AE"
      }
    },
    {
      "cell_type": "code",
      "source": [
        "# Definindo intervalos para Linguagens\n",
        "linguagens_intervals = range(int(df['Linguagens'].min()), int(df['Linguagens'].max()) + 21, 20)"
      ],
      "metadata": {
        "id": "dkNwrGcm5uAf"
      },
      "execution_count": null,
      "outputs": []
    },
    {
      "cell_type": "code",
      "source": [
        "plt.figure(figsize=(10, 6))\n",
        "plt.hist(df['Linguagens'], bins=linguagens_intervals, edgecolor='black', alpha=0.7)\n",
        "plt.title('Histograma de Linguagens')\n",
        "plt.xlabel('Nota')\n",
        "plt.ylabel('Frequência')\n",
        "plt.grid(True)\n",
        "plt.show()"
      ],
      "metadata": {
        "colab": {
          "base_uri": "https://localhost:8080/",
          "height": 564
        },
        "id": "ETYQPHE05y3C",
        "outputId": "8eadeac0-93f0-4011-be03-e2ea0381b6e2"
      },
      "execution_count": null,
      "outputs": [
        {
          "output_type": "display_data",
          "data": {
            "text/plain": [
              "<Figure size 1000x600 with 1 Axes>"
            ],
            "image/png": "[encoded data removed]"
          },
          "metadata": {}
        }
      ]
    },
    {
      "cell_type": "markdown",
      "source": [
        "O histograma de Linguagens não é simétrico. Existe um pico de frequência em torno da nota 500. A distribuição não é uniforme e apresenta assimetria. A altura das barras não é igual em ambos os lados da distribuição.\n"
      ],
      "metadata": {
        "id": "fgxYgVfB63CP"
      }
    },
    {
      "cell_type": "markdown",
      "source": [
        "**7. Agora coloque um range fixo de 0 até 1000, você ainda tem a mesma\n",
        "opinião quanto a simetria? [plt.hist(dado, bins=_, range=[0, 1000])**"
      ],
      "metadata": {
        "id": "A826bea1-ipL"
      }
    },
    {
      "cell_type": "code",
      "source": [
        "plt.figure(figsize=(12, 6))\n",
        "\n",
        "# Histograma de Redação\n",
        "plt.subplot(1, 2, 1)\n",
        "plt.hist(df['Redação'], bins=50, range=[0, 1000], color='skyblue', edgecolor='black')\n",
        "plt.title('Histograma de Redação')\n",
        "plt.xlabel('Nota')\n",
        "plt.ylabel('Frequência')\n",
        "\n",
        "# Histograma de Linguagens\n",
        "plt.subplot(1, 2, 2)\n",
        "plt.hist(df['Linguagens'], bins=50, range=[0, 1000], color='lightcoral', edgecolor='black')\n",
        "plt.title('Histograma de Linguagens')\n",
        "plt.xlabel('Nota')\n",
        "plt.ylabel('Frequência')\n",
        "\n",
        "plt.tight_layout()\n",
        "plt.show()"
      ],
      "metadata": {
        "colab": {
          "base_uri": "https://localhost:8080/",
          "height": 569
        },
        "id": "jxHf_JKG8Anb",
        "outputId": "7d415c47-0300-4296-888c-b726e3e45081"
      },
      "execution_count": null,
      "outputs": [
        {
          "output_type": "display_data",
          "data": {
            "text/plain": [
              "<Figure size 1200x600 with 2 Axes>"
            ],
            "image/png": "[encoded data removed]"
          },
          "metadata": {}
        }
      ]
    },
    {
      "cell_type": "markdown",
      "source": [
        "**Histograma de Redação:**\n",
        "- A frequência mais alta ocorre em torno de uma pontuação de 600.\n",
        "- As frequências diminuem drasticamente para pontuações mais altas.\n",
        "- A forma do histograma não é perfeitamente simétrica, mas tem uma aparência distinta.\n",
        "\n",
        "**Histograma de Linguagens:**\n",
        "- A frequência mais alta está em torno de uma pontuação de aproximadamente 500.\n",
        "- As frequências diminuem em ambos os lados, criando uma aparência mais simétrica em comparação com o histograma da Redação.\n",
        "- No entanto, ainda não é perfeitamente simétrico.\n",
        "\n",
        " No caso, nenhum dos histogramas é perfeitamente simétrico, mas eles exibem padrões distintos em termos de onde as pontuações mais altas e mais baixas estão concentradas e como diminuem em direção às extremidades. O fato de o histograma de Linguagens parecer mais simétrico sugere uma distribuição mais equilibrada das pontuações nessa disciplina, em comparação com o histograma de Redação.\n"
      ],
      "metadata": {
        "id": "kGAsVjfL-AlP"
      }
    },
    {
      "cell_type": "markdown",
      "source": [
        "**8. Faça um boxplot do quartil de todas as disciplinas de ciências da\n",
        "natureza e redação. É possível enxergar outliers? Utilize o método IQR.**"
      ],
      "metadata": {
        "id": "_-ugpnad-qx9"
      }
    },
    {
      "cell_type": "code",
      "source": [
        "disciplinas_selecionadas = df[['Ciências da natureza', 'Redação', 'Matemática', 'Linguagens', 'Ciências humanas']]"
      ],
      "metadata": {
        "id": "VU7XzDbV73_k"
      },
      "execution_count": null,
      "outputs": []
    },
    {
      "cell_type": "code",
      "source": [
        "# Criando o boxplot\n",
        "plt.figure(figsize=(10, 6))\n",
        "sns.boxplot(data=disciplinas_selecionadas)\n",
        "plt.title('Boxplot das Disciplinas')\n",
        "plt.xlabel('Disciplina')\n",
        "plt.ylabel('Nota')\n",
        "plt.show()"
      ],
      "metadata": {
        "colab": {
          "base_uri": "https://localhost:8080/",
          "height": 564
        },
        "id": "7TEopb95_cFX",
        "outputId": "a748c872-aaba-4eb7-f713-7b659779f5bb"
      },
      "execution_count": null,
      "outputs": [
        {
          "output_type": "display_data",
          "data": {
            "text/plain": [
              "<Figure size 1000x600 with 1 Axes>"
            ],
            "image/png": "[encoded data removed]"
          },
          "metadata": {}
        }
      ]
    },
    {
      "cell_type": "code",
      "source": [
        "# Calculando o IQR para cada disciplina\n",
        "Q1 = disciplinas_selecionadas.quantile(0.25)\n",
        "Q3 = disciplinas_selecionadas.quantile(0.75)\n",
        "IQR = Q3 - Q1\n",
        "\n",
        "outliers = ((disciplinas_selecionadas < (Q1 - 1.5 * IQR)) | (disciplinas_selecionadas > (Q3 + 1.5 * IQR)))\n",
        "\n",
        "# Mostrando linhas onde a coluna é True\n",
        "outlier_rows = outliers[outliers.any(axis=1)]\n",
        "outlier_rows"
      ],
      "metadata": {
        "colab": {
          "base_uri": "https://localhost:8080/",
          "height": 770
        },
        "id": "V_4V0okD_lZ0",
        "outputId": "1d6923fd-ec60-4007-f54f-b28fee6e4554"
      },
      "execution_count": null,
      "outputs": [
        {
          "output_type": "execute_result",
          "data": {
            "text/plain": [
              "     Ciências da natureza  Redação  Matemática  Linguagens  Ciências humanas\n",
              "9                   False     True       False       False             False\n",
              "28                  False    False       False        True             False\n",
              "38                  False    False       False       False              True\n",
              "79                  False    False       False       False              True\n",
              "136                 False    False       False        True             False\n",
              "325                  True    False       False       False             False\n",
              "340                 False    False       False       False              True\n",
              "421                 False    False       False       False              True\n",
              "422                 False    False       False        True             False\n",
              "448                 False    False       False       False              True\n",
              "468                 False    False       False       False              True\n",
              "482                  True    False       False       False             False\n",
              "483                  True    False       False       False             False\n",
              "545                 False     True       False       False             False\n",
              "587                 False    False       False        True             False\n",
              "702                 False    False        True       False             False\n",
              "720                 False     True       False       False             False\n",
              "775                 False    False       False       False              True\n",
              "824                 False    False        True       False             False\n",
              "870                 False     True       False       False             False\n",
              "964                 False    False       False       False              True\n",
              "966                 False    False       False        True             False\n",
              "989                 False    False        True       False             False"
            ],
            "text/html": [
              "\n",
              "  <div id=\"df-ad48c2e0-f047-42af-8350-27415af9b5a7\" class=\"colab-df-container\">\n",
              "    <div>\n",
              "<style scoped>\n",
              "    .dataframe tbody tr th:only-of-type {\n",
              "        vertical-align: middle;\n",
              "    }\n",
              "\n",
              "    .dataframe tbody tr th {\n",
              "        vertical-align: top;\n",
              "    }\n",
              "\n",
              "    .dataframe thead th {\n",
              "        text-align: right;\n",
              "    }\n",
              "</style>\n",
              "<table border=\"1\" class=\"dataframe\">\n",
              "  <thead>\n",
              "    <tr style=\"text-align: right;\">\n",
              "      <th></th>\n",
              "      <th>Ciências da natureza</th>\n",
              "      <th>Redação</th>\n",
              "      <th>Matemática</th>\n",
              "      <th>Linguagens</th>\n",
              "      <th>Ciências humanas</th>\n",
              "    </tr>\n",
              "  </thead>\n",
              "  <tbody>\n",
              "    <tr>\n",
              "      <th>9</th>\n",
              "      <td>False</td>\n",
              "      <td>True</td>\n",
              "      <td>False</td>\n",
              "      <td>False</td>\n",
              "      <td>False</td>\n",
              "    </tr>\n",
              "    <tr>\n",
              "      <th>28</th>\n",
              "      <td>False</td>\n",
              "      <td>False</td>\n",
              "      <td>False</td>\n",
              "      <td>True</td>\n",
              "      <td>False</td>\n",
              "    </tr>\n",
              "    <tr>\n",
              "      <th>38</th>\n",
              "      <td>False</td>\n",
              "      <td>False</td>\n",
              "      <td>False</td>\n",
              "      <td>False</td>\n",
              "      <td>True</td>\n",
              "    </tr>\n",
              "    <tr>\n",
              "      <th>79</th>\n",
              "      <td>False</td>\n",
              "      <td>False</td>\n",
              "      <td>False</td>\n",
              "      <td>False</td>\n",
              "      <td>True</td>\n",
              "    </tr>\n",
              "    <tr>\n",
              "      <th>136</th>\n",
              "      <td>False</td>\n",
              "      <td>False</td>\n",
              "      <td>False</td>\n",
              "      <td>True</td>\n",
              "      <td>False</td>\n",
              "    </tr>\n",
              "    <tr>\n",
              "      <th>325</th>\n",
              "      <td>True</td>\n",
              "      <td>False</td>\n",
              "      <td>False</td>\n",
              "      <td>False</td>\n",
              "      <td>False</td>\n",
              "    </tr>\n",
              "    <tr>\n",
              "      <th>340</th>\n",
              "      <td>False</td>\n",
              "      <td>False</td>\n",
              "      <td>False</td>\n",
              "      <td>False</td>\n",
              "      <td>True</td>\n",
              "    </tr>\n",
              "    <tr>\n",
              "      <th>421</th>\n",
              "      <td>False</td>\n",
              "      <td>False</td>\n",
              "      <td>False</td>\n",
              "      <td>False</td>\n",
              "      <td>True</td>\n",
              "    </tr>\n",
              "    <tr>\n",
              "      <th>422</th>\n",
              "      <td>False</td>\n",
              "      <td>False</td>\n",
              "      <td>False</td>\n",
              "      <td>True</td>\n",
              "      <td>False</td>\n",
              "    </tr>\n",
              "    <tr>\n",
              "      <th>448</th>\n",
              "      <td>False</td>\n",
              "      <td>False</td>\n",
              "      <td>False</td>\n",
              "      <td>False</td>\n",
              "      <td>True</td>\n",
              "    </tr>\n",
              "    <tr>\n",
              "      <th>468</th>\n",
              "      <td>False</td>\n",
              "      <td>False</td>\n",
              "      <td>False</td>\n",
              "      <td>False</td>\n",
              "      <td>True</td>\n",
              "    </tr>\n",
              "    <tr>\n",
              "      <th>482</th>\n",
              "      <td>True</td>\n",
              "      <td>False</td>\n",
              "      <td>False</td>\n",
              "      <td>False</td>\n",
              "      <td>False</td>\n",
              "    </tr>\n",
              "    <tr>\n",
              "      <th>483</th>\n",
              "      <td>True</td>\n",
              "      <td>False</td>\n",
              "      <td>False</td>\n",
              "      <td>False</td>\n",
              "      <td>False</td>\n",
              "    </tr>\n",
              "    <tr>\n",
              "      <th>545</th>\n",
              "      <td>False</td>\n",
              "      <td>True</td>\n",
              "      <td>False</td>\n",
              "      <td>False</td>\n",
              "      <td>False</td>\n",
              "    </tr>\n",
              "    <tr>\n",
              "      <th>587</th>\n",
              "      <td>False</td>\n",
              "      <td>False</td>\n",
              "      <td>False</td>\n",
              "      <td>True</td>\n",
              "      <td>False</td>\n",
              "    </tr>\n",
              "    <tr>\n",
              "      <th>702</th>\n",
              "      <td>False</td>\n",
              "      <td>False</td>\n",
              "      <td>True</td>\n",
              "      <td>False</td>\n",
              "      <td>False</td>\n",
              "    </tr>\n",
              "    <tr>\n",
              "      <th>720</th>\n",
              "      <td>False</td>\n",
              "      <td>True</td>\n",
              "      <td>False</td>\n",
              "      <td>False</td>\n",
              "      <td>False</td>\n",
              "    </tr>\n",
              "    <tr>\n",
              "      <th>775</th>\n",
              "      <td>False</td>\n",
              "      <td>False</td>\n",
              "      <td>False</td>\n",
              "      <td>False</td>\n",
              "      <td>True</td>\n",
              "    </tr>\n",
              "    <tr>\n",
              "      <th>824</th>\n",
              "      <td>False</td>\n",
              "      <td>False</td>\n",
              "      <td>True</td>\n",
              "      <td>False</td>\n",
              "      <td>False</td>\n",
              "    </tr>\n",
              "    <tr>\n",
              "      <th>870</th>\n",
              "      <td>False</td>\n",
              "      <td>True</td>\n",
              "      <td>False</td>\n",
              "      <td>False</td>\n",
              "      <td>False</td>\n",
              "    </tr>\n",
              "    <tr>\n",
              "      <th>964</th>\n",
              "      <td>False</td>\n",
              "      <td>False</td>\n",
              "      <td>False</td>\n",
              "      <td>False</td>\n",
              "      <td>True</td>\n",
              "    </tr>\n",
              "    <tr>\n",
              "      <th>966</th>\n",
              "      <td>False</td>\n",
              "      <td>False</td>\n",
              "      <td>False</td>\n",
              "      <td>True</td>\n",
              "      <td>False</td>\n",
              "    </tr>\n",
              "    <tr>\n",
              "      <th>989</th>\n",
              "      <td>False</td>\n",
              "      <td>False</td>\n",
              "      <td>True</td>\n",
              "      <td>False</td>\n",
              "      <td>False</td>\n",
              "    </tr>\n",
              "  </tbody>\n",
              "</table>\n",
              "</div>\n",
              "    <div class=\"colab-df-buttons\">\n",
              "\n",
              "  <div class=\"colab-df-container\">\n",
              "    <button class=\"colab-df-convert\" onclick=\"convertToInteractive('df-ad48c2e0-f047-42af-8350-27415af9b5a7')\"\n",
              "            title=\"Convert this dataframe to an interactive table.\"\n",
              "            style=\"display:none;\">\n",
              "\n",
              "  <svg xmlns=\"http://www.w3.org/2000/svg\" height=\"24px\" viewBox=\"0 -960 960 960\">\n",
              "    <path d=\"M120-120v-720h720v720H120Zm60-500h600v-160H180v160Zm220 220h160v-160H400v160Zm0 220h160v-160H400v160ZM180-400h160v-160H180v160Zm440 0h160v-160H620v160ZM180-180h160v-160H180v160Zm440 0h160v-160H620v160Z\"/>\n",
              "  </svg>\n",
              "    </button>\n",
              "\n",
              "  <style>\n",
              "    .colab-df-container {\n",
              "      display:flex;\n",
              "      gap: 12px;\n",
              "    }\n",
              "\n",
              "    .colab-df-convert {\n",
              "      background-color: #E8F0FE;\n",
              "      border: none;\n",
              "      border-radius: 50%;\n",
              "      cursor: pointer;\n",
              "      display: none;\n",
              "      fill: #1967D2;\n",
              "      height: 32px;\n",
              "      padding: 0 0 0 0;\n",
              "      width: 32px;\n",
              "    }\n",
              "\n",
              "    .colab-df-convert:hover {\n",
              "      background-color: #E2EBFA;\n",
              "      box-shadow: 0px 1px 2px rgba(60, 64, 67, 0.3), 0px 1px 3px 1px rgba(60, 64, 67, 0.15);\n",
              "      fill: #174EA6;\n",
              "    }\n",
              "\n",
              "    .colab-df-buttons div {\n",
              "      margin-bottom: 4px;\n",
              "    }\n",
              "\n",
              "    [theme=dark] .colab-df-convert {\n",
              "      background-color: #3B4455;\n",
              "      fill: #D2E3FC;\n",
              "    }\n",
              "\n",
              "    [theme=dark] .colab-df-convert:hover {\n",
              "      background-color: #434B5C;\n",
              "      box-shadow: 0px 1px 3px 1px rgba(0, 0, 0, 0.15);\n",
              "      filter: drop-shadow(0px 1px 2px rgba(0, 0, 0, 0.3));\n",
              "      fill: #FFFFFF;\n",
              "    }\n",
              "  </style>\n",
              "\n",
              "    <script>\n",
              "      const buttonEl =\n",
              "        document.querySelector('#df-ad48c2e0-f047-42af-8350-27415af9b5a7 button.colab-df-convert');\n",
              "      buttonEl.style.display =\n",
              "        google.colab.kernel.accessAllowed ? 'block' : 'none';\n",
              "\n",
              "      async function convertToInteractive(key) {\n",
              "        const element = document.querySelector('#df-ad48c2e0-f047-42af-8350-27415af9b5a7');\n",
              "        const dataTable =\n",
              "          await google.colab.kernel.invokeFunction('convertToInteractive',\n",
              "                                                    [key], {});\n",
              "        if (!dataTable) return;\n",
              "\n",
              "        const docLinkHtml = 'Like what you see? Visit the ' +\n",
              "          '<a target=\"_blank\" href=https://colab.research.google.com/notebooks/data_table.ipynb>data table notebook</a>'\n",
              "          + ' to learn more about interactive tables.';\n",
              "        element.innerHTML = '';\n",
              "        dataTable['output_type'] = 'display_data';\n",
              "        await google.colab.output.renderOutput(dataTable, element);\n",
              "        const docLink = document.createElement('div');\n",
              "        docLink.innerHTML = docLinkHtml;\n",
              "        element.appendChild(docLink);\n",
              "      }\n",
              "    </script>\n",
              "  </div>\n",
              "\n",
              "\n",
              "<div id=\"df-d051af63-3354-4d0b-989f-7a566e5ac9d5\">\n",
              "  <button class=\"colab-df-quickchart\" onclick=\"quickchart('df-d051af63-3354-4d0b-989f-7a566e5ac9d5')\"\n",
              "            title=\"Suggest charts\"\n",
              "            style=\"display:none;\">\n",
              "\n",
              "<svg xmlns=\"http://www.w3.org/2000/svg\" height=\"24px\"viewBox=\"0 0 24 24\"\n",
              "     width=\"24px\">\n",
              "    <g>\n",
              "        <path d=\"M19 3H5c-1.1 0-2 .9-2 2v14c0 1.1.9 2 2 2h14c1.1 0 2-.9 2-2V5c0-1.1-.9-2-2-2zM9 17H7v-7h2v7zm4 0h-2V7h2v10zm4 0h-2v-4h2v4z\"/>\n",
              "    </g>\n",
              "</svg>\n",
              "  </button>\n",
              "\n",
              "<style>\n",
              "  .colab-df-quickchart {\n",
              "      --bg-color: #E8F0FE;\n",
              "      --fill-color: #1967D2;\n",
              "      --hover-bg-color: #E2EBFA;\n",
              "      --hover-fill-color: #174EA6;\n",
              "      --disabled-fill-color: #AAA;\n",
              "      --disabled-bg-color: #DDD;\n",
              "  }\n",
              "\n",
              "  [theme=dark] .colab-df-quickchart {\n",
              "      --bg-color: #3B4455;\n",
              "      --fill-color: #D2E3FC;\n",
              "      --hover-bg-color: #434B5C;\n",
              "      --hover-fill-color: #FFFFFF;\n",
              "      --disabled-bg-color: #3B4455;\n",
              "      --disabled-fill-color: #666;\n",
              "  }\n",
              "\n",
              "  .colab-df-quickchart {\n",
              "    background-color: var(--bg-color);\n",
              "    border: none;\n",
              "    border-radius: 50%;\n",
              "    cursor: pointer;\n",
              "    display: none;\n",
              "    fill: var(--fill-color);\n",
              "    height: 32px;\n",
              "    padding: 0;\n",
              "    width: 32px;\n",
              "  }\n",
              "\n",
              "  .colab-df-quickchart:hover {\n",
              "    background-color: var(--hover-bg-color);\n",
              "    box-shadow: 0 1px 2px rgba(60, 64, 67, 0.3), 0 1px 3px 1px rgba(60, 64, 67, 0.15);\n",
              "    fill: var(--button-hover-fill-color);\n",
              "  }\n",
              "\n",
              "  .colab-df-quickchart-complete:disabled,\n",
              "  .colab-df-quickchart-complete:disabled:hover {\n",
              "    background-color: var(--disabled-bg-color);\n",
              "    fill: var(--disabled-fill-color);\n",
              "    box-shadow: none;\n",
              "  }\n",
              "\n",
              "  .colab-df-spinner {\n",
              "    border: 2px solid var(--fill-color);\n",
              "    border-color: transparent;\n",
              "    border-bottom-color: var(--fill-color);\n",
              "    animation:\n",
              "      spin 1s steps(1) infinite;\n",
              "  }\n",
              "\n",
              "  @keyframes spin {\n",
              "    0% {\n",
              "      border-color: transparent;\n",
              "      border-bottom-color: var(--fill-color);\n",
              "      border-left-color: var(--fill-color);\n",
              "    }\n",
              "    20% {\n",
              "      border-color: transparent;\n",
              "      border-left-color: var(--fill-color);\n",
              "      border-top-color: var(--fill-color);\n",
              "    }\n",
              "    30% {\n",
              "      border-color: transparent;\n",
              "      border-left-color: var(--fill-color);\n",
              "      border-top-color: var(--fill-color);\n",
              "      border-right-color: var(--fill-color);\n",
              "    }\n",
              "    40% {\n",
              "      border-color: transparent;\n",
              "      border-right-color: var(--fill-color);\n",
              "      border-top-color: var(--fill-color);\n",
              "    }\n",
              "    60% {\n",
              "      border-color: transparent;\n",
              "      border-right-color: var(--fill-color);\n",
              "    }\n",
              "    80% {\n",
              "      border-color: transparent;\n",
              "      border-right-color: var(--fill-color);\n",
              "      border-bottom-color: var(--fill-color);\n",
              "    }\n",
              "    90% {\n",
              "      border-color: transparent;\n",
              "      border-bottom-color: var(--fill-color);\n",
              "    }\n",
              "  }\n",
              "</style>\n",
              "\n",
              "  <script>\n",
              "    async function quickchart(key) {\n",
              "      const quickchartButtonEl =\n",
              "        document.querySelector('#' + key + ' button');\n",
              "      quickchartButtonEl.disabled = true;  // To prevent multiple clicks.\n",
              "      quickchartButtonEl.classList.add('colab-df-spinner');\n",
              "      try {\n",
              "        const charts = await google.colab.kernel.invokeFunction(\n",
              "            'suggestCharts', [key], {});\n",
              "      } catch (error) {\n",
              "        console.error('Error during call to suggestCharts:', error);\n",
              "      }\n",
              "      quickchartButtonEl.classList.remove('colab-df-spinner');\n",
              "      quickchartButtonEl.classList.add('colab-df-quickchart-complete');\n",
              "    }\n",
              "    (() => {\n",
              "      let quickchartButtonEl =\n",
              "        document.querySelector('#df-d051af63-3354-4d0b-989f-7a566e5ac9d5 button');\n",
              "      quickchartButtonEl.style.display =\n",
              "        google.colab.kernel.accessAllowed ? 'block' : 'none';\n",
              "    })();\n",
              "  </script>\n",
              "</div>\n",
              "\n",
              "  <div id=\"id_fd365c13-10c2-4220-aff2-ac28fa6da21d\">\n",
              "    <style>\n",
              "      .colab-df-generate {\n",
              "        background-color: #E8F0FE;\n",
              "        border: none;\n",
              "        border-radius: 50%;\n",
              "        cursor: pointer;\n",
              "        display: none;\n",
              "        fill: #1967D2;\n",
              "        height: 32px;\n",
              "        padding: 0 0 0 0;\n",
              "        width: 32px;\n",
              "      }\n",
              "\n",
              "      .colab-df-generate:hover {\n",
              "        background-color: #E2EBFA;\n",
              "        box-shadow: 0px 1px 2px rgba(60, 64, 67, 0.3), 0px 1px 3px 1px rgba(60, 64, 67, 0.15);\n",
              "        fill: #174EA6;\n",
              "      }\n",
              "\n",
              "      [theme=dark] .colab-df-generate {\n",
              "        background-color: #3B4455;\n",
              "        fill: #D2E3FC;\n",
              "      }\n",
              "\n",
              "      [theme=dark] .colab-df-generate:hover {\n",
              "        background-color: #434B5C;\n",
              "        box-shadow: 0px 1px 3px 1px rgba(0, 0, 0, 0.15);\n",
              "        filter: drop-shadow(0px 1px 2px rgba(0, 0, 0, 0.3));\n",
              "        fill: #FFFFFF;\n",
              "      }\n",
              "    </style>\n",
              "    <button class=\"colab-df-generate\" onclick=\"generateWithVariable('outlier_rows')\"\n",
              "            title=\"Generate code using this dataframe.\"\n",
              "            style=\"display:none;\">\n",
              "\n",
              "  <svg xmlns=\"http://www.w3.org/2000/svg\" height=\"24px\"viewBox=\"0 0 24 24\"\n",
              "       width=\"24px\">\n",
              "    <path d=\"M7,19H8.4L18.45,9,17,7.55,7,17.6ZM5,21V16.75L18.45,3.32a2,2,0,0,1,2.83,0l1.4,1.43a1.91,1.91,0,0,1,.58,1.4,1.91,1.91,0,0,1-.58,1.4L9.25,21ZM18.45,9,17,7.55Zm-12,3A5.31,5.31,0,0,0,4.9,8.1,5.31,5.31,0,0,0,1,6.5,5.31,5.31,0,0,0,4.9,4.9,5.31,5.31,0,0,0,6.5,1,5.31,5.31,0,0,0,8.1,4.9,5.31,5.31,0,0,0,12,6.5,5.46,5.46,0,0,0,6.5,12Z\"/>\n",
              "  </svg>\n",
              "    </button>\n",
              "    <script>\n",
              "      (() => {\n",
              "      const buttonEl =\n",
              "        document.querySelector('#id_fd365c13-10c2-4220-aff2-ac28fa6da21d button.colab-df-generate');\n",
              "      buttonEl.style.display =\n",
              "        google.colab.kernel.accessAllowed ? 'block' : 'none';\n",
              "\n",
              "      buttonEl.onclick = () => {\n",
              "        google.colab.notebook.generateWithVariable('outlier_rows');\n",
              "      }\n",
              "      })();\n",
              "    </script>\n",
              "  </div>\n",
              "\n",
              "    </div>\n",
              "  </div>\n"
            ],
            "application/vnd.google.colaboratory.intrinsic+json": {
              "type": "dataframe",
              "variable_name": "outlier_rows",
              "summary": "{\n  \"name\": \"outlier_rows\",\n  \"rows\": 23,\n  \"fields\": [\n    {\n      \"column\": \"Ci\\u00eancias da natureza\",\n      \"properties\": {\n        \"dtype\": \"boolean\",\n        \"num_unique_values\": 2,\n        \"samples\": [\n          true,\n          false\n        ],\n        \"semantic_type\": \"\",\n        \"description\": \"\"\n      }\n    },\n    {\n      \"column\": \"Reda\\u00e7\\u00e3o\",\n      \"properties\": {\n        \"dtype\": \"boolean\",\n        \"num_unique_values\": 2,\n        \"samples\": [\n          false,\n          true\n        ],\n        \"semantic_type\": \"\",\n        \"description\": \"\"\n      }\n    },\n    {\n      \"column\": \"Matem\\u00e1tica\",\n      \"properties\": {\n        \"dtype\": \"boolean\",\n        \"num_unique_values\": 2,\n        \"samples\": [\n          true,\n          false\n        ],\n        \"semantic_type\": \"\",\n        \"description\": \"\"\n      }\n    },\n    {\n      \"column\": \"Linguagens\",\n      \"properties\": {\n        \"dtype\": \"boolean\",\n        \"num_unique_values\": 2,\n        \"samples\": [\n          true,\n          false\n        ],\n        \"semantic_type\": \"\",\n        \"description\": \"\"\n      }\n    },\n    {\n      \"column\": \"Ci\\u00eancias humanas\",\n      \"properties\": {\n        \"dtype\": \"boolean\",\n        \"num_unique_values\": 2,\n        \"samples\": [\n          true,\n          false\n        ],\n        \"semantic_type\": \"\",\n        \"description\": \"\"\n      }\n    }\n  ]\n}"
            }
          },
          "metadata": {},
          "execution_count": 33
        }
      ]
    },
    {
      "cell_type": "markdown",
      "source": [
        "**9. Remova todos os outliers e verifique se eles são passíveis de alterar a\n",
        "média nacional significativamente? (considere significativamente um\n",
        "valor acima de 5%)**"
      ],
      "metadata": {
        "id": "PTnQ4GbFCmln"
      }
    },
    {
      "cell_type": "code",
      "source": [
        "# Removendo outliers\n",
        "df_sem_outliers = df[~outliers.any(axis=1)]\n",
        "\n",
        "# Verificando alteração na média nacional\n",
        "media_nacional_original = df[['Ciências da natureza', 'Redação', 'Matemática', 'Linguagens', 'Ciências humanas']].mean()\n",
        "media_nacional_sem_outliers = df_sem_outliers[['Ciências da natureza', 'Redação', 'Matemática', 'Linguagens', 'Ciências humanas']].mean()\n",
        "\n",
        "# Calculando a diferença percentual\n",
        "diferenca_percentual = ((media_nacional_sem_outliers - media_nacional_original) / media_nacional_original) * 100\n",
        "\n",
        "print(\"Diferença percentual na média nacional sem outliers:\")\n",
        "diferenca_percentual"
      ],
      "metadata": {
        "colab": {
          "base_uri": "https://localhost:8080/"
        },
        "id": "VzZrCPKyCsrV",
        "outputId": "18db5f17-dc15-43c6-f0f3-0d0c0fbb2af5"
      },
      "execution_count": null,
      "outputs": [
        {
          "output_type": "stream",
          "name": "stdout",
          "text": [
            "Diferença percentual na média nacional sem outliers:\n"
          ]
        },
        {
          "output_type": "execute_result",
          "data": {
            "text/plain": [
              "Ciências da natureza   -0.263620\n",
              "Redação                -0.198631\n",
              "Matemática             -0.044370\n",
              "Linguagens             -0.119292\n",
              "Ciências humanas       -0.259122\n",
              "dtype: float64"
            ]
          },
          "metadata": {},
          "execution_count": 34
        }
      ]
    },
    {
      "cell_type": "markdown",
      "source": [
        "As diferenças estão todas abaixo de 0,3%, o que sugere que os outliers não estavam exercendo uma influência substancial sobre as médias nacionais das disciplinas"
      ],
      "metadata": {
        "id": "P5u6CRvFDXN9"
      }
    },
    {
      "cell_type": "markdown",
      "source": [
        "**10. Considerando valores nulos, tente encontrar qual seria a melhor medida\n",
        "de tendência que pode substituir as notas nulas. Média, moda ou\n",
        "mediana? Substitua o valor por todos os três e diga qual delas altera\n",
        "menos a média geral e o desvio padrão.**"
      ],
      "metadata": {
        "id": "eZbVg15RDG2d"
      }
    },
    {
      "cell_type": "code",
      "source": [
        "df_preenchido = df.copy()\n",
        "# Convertendo todas as colunas para numérico, tratando valores não numéricos como NaN\n",
        "df_preenchido = df_preenchido.apply(pd.to_numeric, errors='coerce')\n"
      ],
      "metadata": {
        "id": "fVH8vAIHGLwH"
      },
      "execution_count": null,
      "outputs": []
    },
    {
      "cell_type": "code",
      "source": [
        "# Preenchendo os valores nulos com a média, moda e mediana para cada coluna\n",
        "for coluna in df_preenchido.columns:\n",
        "    media_coluna = df_preenchido[coluna].mean()\n",
        "\n",
        "    # Calculanndo a moda e substituindo os valores nulos\n",
        "    moda_coluna = df_preenchido[coluna].mode()\n",
        "    if not moda_coluna.empty:\n",
        "        moda_coluna = moda_coluna.iloc[0]\n",
        "\n",
        "    mediana_coluna = df_preenchido[coluna].median()\n",
        "\n",
        "    # Substituindo os valores nulos pelos três métodos\n",
        "    df_preenchido[coluna + '_media'] = df_preenchido[coluna].fillna(media_coluna)\n",
        "    df_preenchido[coluna + '_moda'] = df_preenchido[coluna].fillna(moda_coluna)\n",
        "    df_preenchido[coluna + '_mediana'] = df_preenchido[coluna].fillna(mediana_coluna)\n",
        "\n"
      ],
      "metadata": {
        "id": "P1wTQWqVGpSZ",
        "colab": {
          "base_uri": "https://localhost:8080/"
        },
        "outputId": "8a7800a1-69d3-465d-f81b-8dc40139ff76"
      },
      "execution_count": null,
      "outputs": [
        {
          "output_type": "stream",
          "name": "stderr",
          "text": [
            "/usr/local/lib/python3.10/dist-packages/numpy/lib/nanfunctions.py:1215: RuntimeWarning: Mean of empty slice\n",
            "  return np.nanmean(a, axis, out=out, keepdims=keepdims)\n"
          ]
        }
      ]
    },
    {
      "cell_type": "code",
      "source": [
        "# Calculando a média geral e o desvio padrão após o preenchimento para cada método\n",
        "media_geral_original = df_preenchido.stack().mean()\n",
        "desvio_padrao_original = df_preenchido.stack().std()\n",
        "\n",
        "media_geral_media = df_preenchido.filter(like='_media').stack().mean()\n",
        "desvio_padrao_media = df_preenchido.filter(like='_media').stack().std()\n",
        "\n",
        "media_geral_moda = df_preenchido.filter(like='_moda').stack().mean()\n",
        "desvio_padrao_moda = df_preenchido.filter(like='_moda').stack().std()\n",
        "\n",
        "media_geral_mediana = df_preenchido.filter(like='_mediana').stack().mean()\n",
        "desvio_padrao_mediana = df_preenchido.filter(like='_mediana').stack().std()\n"
      ],
      "metadata": {
        "id": "yjLabUTSGyh_"
      },
      "execution_count": null,
      "outputs": []
    },
    {
      "cell_type": "code",
      "source": [
        "# Comparando as alterações\n",
        "alteracao_media_geral_media = abs((media_geral_media - media_geral_original) / media_geral_original) * 100\n",
        "alteracao_desvio_padrao_media = abs((desvio_padrao_media - desvio_padrao_original) / desvio_padrao_original) * 100\n",
        "\n",
        "alteracao_media_geral_moda = abs((media_geral_moda - media_geral_original) / media_geral_original) * 100\n",
        "alteracao_desvio_padrao_moda = abs((desvio_padrao_moda - desvio_padrao_original) / desvio_padrao_original) * 100\n",
        "\n",
        "alteracao_media_geral_mediana = abs((media_geral_mediana - media_geral_original) / media_geral_original) * 100\n",
        "alteracao_desvio_padrao_mediana = abs((desvio_padrao_mediana - desvio_padrao_original) / desvio_padrao_original) * 100\n",
        "\n",
        "print(\"Alteração na média geral e no desvio padrão para cada método:\")\n",
        "print(f\"Média - Alteração na média geral: {alteracao_media_geral_media:.2f}%, Alteração no desvio padrão: {alteracao_desvio_padrao_media:.2f}%\")\n",
        "print(f\"Moda - Alteração na média geral: {alteracao_media_geral_moda:.2f}%, Alteração no desvio padrão: {alteracao_desvio_padrao_moda:.2f}%\")\n",
        "print(f\"Mediana - Alteração na média geral: {alteracao_media_geral_mediana:.2f}%, Alteração no desvio padrão: {alteracao_desvio_padrao_mediana:.2f}%\")\n"
      ],
      "metadata": {
        "colab": {
          "base_uri": "https://localhost:8080/"
        },
        "id": "P9nB_RCTG1HR",
        "outputId": "0a556c34-976d-479f-b3e5-601a04bc9a06"
      },
      "execution_count": null,
      "outputs": [
        {
          "output_type": "stream",
          "name": "stdout",
          "text": [
            "Alteração na média geral e no desvio padrão para cada método:\n",
            "Média - Alteração na média geral: 4.72%, Alteração no desvio padrão: 5.75%\n",
            "Moda - Alteração na média geral: 2.77%, Alteração no desvio padrão: 3.70%\n",
            "Mediana - Alteração na média geral: 4.68%, Alteração no desvio padrão: 5.66%\n"
          ]
        }
      ]
    }
  ]
}